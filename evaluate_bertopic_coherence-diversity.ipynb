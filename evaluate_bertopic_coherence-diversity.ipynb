{
 "cells": [
  {
   "cell_type": "markdown",
   "id": "9bf886c8",
   "metadata": {},
   "source": [
    "Evaluate each of the BERTopic models using the same metrics as were used for the other models in Octis."
   ]
  },
  {
   "cell_type": "markdown",
   "id": "cb55caeb",
   "metadata": {},
   "source": [
    "Preliminaries."
   ]
  },
  {
   "cell_type": "code",
   "execution_count": null,
   "id": "713c2a39",
   "metadata": {},
   "outputs": [],
   "source": [
    "import pandas as pd\n",
    "from bertopic import BERTopic\n",
    "from gensim.models.coherencemodel import CoherenceModel\n",
    "from gensim import corpora\n",
    "import numpy as np\n",
    "import os"
   ]
  },
  {
   "cell_type": "markdown",
   "id": "c8fd1429",
   "metadata": {},
   "source": [
    "Define functions for topic diversity."
   ]
  },
  {
   "cell_type": "code",
   "execution_count": null,
   "id": "c5c357a3",
   "metadata": {},
   "outputs": [],
   "source": [
    "\n",
    "# Function to calculate topic diversity\n",
    "def calculate_topic_diversity(df, top_words_column):\n",
    "    unique_words = set()\n",
    "    total_words = 0\n",
    "\n",
    "    for top_words in df[top_words_column]:\n",
    "        words = top_words.split(' - ')  # Adjust if the separator is different\n",
    "        unique_words.update(words)\n",
    "        total_words += len(words)\n",
    "\n",
    "    if total_words > 0:\n",
    "        diversity = len(unique_words) / total_words\n",
    "    else:\n",
    "        diversity = 0  # Avoid division by zero\n",
    "    return diversity\n"
   ]
  },
  {
   "cell_type": "markdown",
   "id": "99fa2dd4",
   "metadata": {},
   "source": [
    "Function for coherence evaluation."
   ]
  },
  {
   "cell_type": "code",
   "execution_count": null,
   "id": "f8cf4139",
   "metadata": {},
   "outputs": [],
   "source": [
    "\n",
    "# Function to process each model\n",
    "def process_model(model_dir, model_name):\n",
    "    model_path = os.path.join(model_dir, model_name, f\"{model_name}_topic_model\")\n",
    "    embeddings_path = os.path.join(model_dir, model_name, f\"{model_name}_embeddings.npy\")\n",
    "    csv_file_path = os.path.join('./doc_topic_assignments', f\"{model_name}.csv\")\n",
    "\n",
    "    # Check if the paths exist\n",
    "    if not os.path.exists(model_path) or not os.path.exists(embeddings_path) or not os.path.exists(csv_file_path):\n",
    "        print(f\"Files not found for model {model_name}\")\n",
    "        return None\n",
    "\n",
    "    # Load the topic model and other data\n",
    "    topic_model = BERTopic.load(os.path.abspath(model_path))\n",
    "    embeddings = np.load(embeddings_path)\n",
    "    vectorizer = topic_model.vectorizer_model\n",
    "    analyzer = vectorizer.build_analyzer()\n",
    "    documents_df = pd.read_csv(csv_file_path)\n",
    "\n",
    "    # Convert all entries in 'Document' column to strings\n",
    "    documents_df['Document'] = documents_df['Document'].astype(str)\n",
    "\n",
    "    # Extract and process documents\n",
    "    docs = documents_df['Document'].tolist()\n",
    "    topics = documents_df['Topic'].tolist()\n",
    "    documents_per_topic = documents_df.groupby('Topic').agg({'Document': ' '.join})\n",
    "\n",
    "    # Coherence calculation\n",
    "    try:\n",
    "        words = vectorizer.get_feature_names_out()\n",
    "    except AttributeError:\n",
    "        words = vectorizer.get_feature_names()\n",
    "    tokens = [analyzer(doc) for doc in documents_per_topic['Document'].values]\n",
    "    dictionary = corpora.Dictionary(tokens)\n",
    "    corpus = [dictionary.doc2bow(token) for token in tokens]\n",
    "\n",
    "    # Get all valid topics from the model, excluding -1 (outliers)\n",
    "    all_topics = topic_model.get_topics()\n",
    "    if all_topics:\n",
    "        topic_words = [[words for words, _ in topic_model.get_topic(topic)] for topic in all_topics.keys() if topic != -1]\n",
    "    else:\n",
    "        topic_words = []\n",
    "\n",
    "    coherence_cv = CoherenceModel(topics=topic_words, texts=tokens, corpus=corpus, dictionary=dictionary, coherence='c_v').get_coherence() if topic_words else None\n",
    "    coherence_npmi = CoherenceModel(topics=topic_words, texts=tokens, corpus=corpus, dictionary=dictionary, coherence='c_npmi').get_coherence() if topic_words else None\n",
    "\n",
    "    # Calculate Topic Diversity\n",
    "    topic_diversity = calculate_topic_diversity(documents_df, 'Top_n_words')  # Use 'Top_n_words' column for diversity calculation\n",
    "\n",
    "    return {\n",
    "        \"Model\": model_name,\n",
    "        \"Number of Documents\": len(docs),\n",
    "        \"Number of Topics\": len(all_topics) - 1 if all_topics else 0,  # Subtract 1 to exclude outlier topic\n",
    "        \"C_V Coherence\": coherence_cv,\n",
    "        \"NPMI Coherence\": coherence_npmi,\n",
    "        \"Topic Diversity\": topic_diversity\n",
    "    }\n"
   ]
  },
  {
   "cell_type": "markdown",
   "id": "c435366d",
   "metadata": {},
   "source": [
    "Iterate over the models"
   ]
  },
  {
   "cell_type": "code",
   "execution_count": null,
   "id": "6d24b777",
   "metadata": {},
   "outputs": [],
   "source": [
    "\n",
    "# Iterate over models and collect results\n",
    "results = []\n",
    "metrics_dir = './metrics_by_model'\n",
    "for model_name in os.listdir(metrics_dir):\n",
    "    model_dir = os.path.join(metrics_dir, model_name)\n",
    "    if os.path.isdir(model_dir):\n",
    "        model_result = process_model(metrics_dir, model_name)\n",
    "        if model_result:\n",
    "            results.append(model_result)\n",
    "\n",
    "# Compile results into a DataFrame\n",
    "results_df = pd.DataFrame(results)\n",
    "results_df\n",
    "\n",
    "results_df.to_csv('./model_coherence_diversity.csv')"
   ]
  }
 ],
 "metadata": {
  "kernelspec": {
   "display_name": "octis",
   "language": "python",
   "name": "octis"
  },
  "language_info": {
   "codemirror_mode": {
    "name": "ipython",
    "version": 3
   },
   "file_extension": ".py",
   "mimetype": "text/x-python",
   "name": "python",
   "nbconvert_exporter": "python",
   "pygments_lexer": "ipython3",
   "version": "3.8.13"
  }
 },
 "nbformat": 4,
 "nbformat_minor": 5
}
