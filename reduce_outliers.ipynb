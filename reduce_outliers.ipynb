{
 "cells": [
  {
   "cell_type": "markdown",
   "id": "188a9498",
   "metadata": {},
   "source": [
    "Sample code to reduce the outliers in a model."
   ]
  },
  {
   "cell_type": "code",
   "execution_count": null,
   "id": "92aff328",
   "metadata": {},
   "outputs": [],
   "source": [
    "import pandas as pd\n",
    "import numpy as np\n",
    "pd.set_option('display.max_rows', 100)\n",
    "import plotly.express as px\n",
    "import plotly.graph_objects as go\n",
    "import matplotlib.pyplot as plt\n",
    "import plotly.io as pio\n",
    "pio.renderers.default='iframe'\n",
    "from bertopic import BERTopic\n",
    "from bertopic.vectorizers import ClassTfidfTransformer\n",
    "from sklearn.feature_extraction.text import CountVectorizer\n",
    "import os\n",
    "os.environ[\"HUGGINGFACE_CO_TIMEOUT\"] = \"600\"  # Increase timeout duration to 600 seconds\n",
    "os.environ[\"TOKENIZERS_PARALLELISM\"] = \"false\"\n",
    "import hdbscan\n",
    "import plotly.express as px\n",
    "import plotly.graph_objects as go\n",
    "import matplotlib.pyplot as plt\n",
    "from hdbscan import HDBSCAN\n",
    "hdbscan_model = HDBSCAN(min_cluster_size=8, prediction_data = True)\n",
    "from umap import UMAP\n",
    "umap_model = UMAP(n_neighbors=10, n_components=5, min_dist=0.0, metric='cosine', random_state=42)\n",
    "from sentence_transformers import SentenceTransformer\n",
    "sentence_model = SentenceTransformer(\"paraphrase-multilingual-MiniLM-L12-v2\")\n",
    "embeddings = sentence_model.encode(docs, show_progress_bar=True)"
   ]
  },
  {
   "cell_type": "markdown",
   "id": "9c73744f",
   "metadata": {},
   "source": [
    "MODEL Reduced outliers using c-tfidf and distribution strategy.\n",
    "\n",
    "Group 4 as example. This can be rewritten to iterate over all the models."
   ]
  },
  {
   "cell_type": "code",
   "execution_count": null,
   "id": "25216be5",
   "metadata": {},
   "outputs": [],
   "source": [
    "group4_df = pd.read_csv('./datasets/group4_spanien.csv')\n",
    "\n",
    "docs = group4_df['text']\n",
    "ctfidf_model = ClassTfidfTransformer(bm25_weighting=True, reduce_frequent_words=True)\n",
    "group4_topic_model = BERTopic(language='danish', calculate_probabilities=True, umap_model=umap_model, hdbscan_model=hdbscan_model, embedding_model=\"paraphrase-multilingual-MiniLM-L12-v2\", top_n_words=10, min_topic_size=10, ctfidf_model=ctfidf_model, verbose=True)\n",
    "topics, probs = group4_topic_model.fit_transform(docs, embeddings)\n",
    "# Use the \"c-TF-IDF\" strategy with a threshold\n",
    "new_topics = group4_topic_model.reduce_outliers(docs, topics , strategy=\"c-tf-idf\", threshold=0.1)\n",
    "\n",
    "# Reduce all outliers that are left with the \"distributions\" strategy\n",
    "new_topics = group4_topic_model.reduce_outliers(docs, topics, strategy=\"distributions\")\n",
    "group4_updated_dists = group4_topic_model\n",
    "group4_updated_dists.update_topics(docs, topics=new_topics)"
   ]
  },
  {
   "cell_type": "markdown",
   "id": "2aab4744",
   "metadata": {},
   "source": [
    "Save the model and embeddings. "
   ]
  },
  {
   "cell_type": "code",
   "execution_count": null,
   "id": "99c37784",
   "metadata": {},
   "outputs": [],
   "source": [
    "group4_topic_model.save('./reduced_models/group4_topic_model_0720')\n",
    "np.save('./reduced_models/group4_embeddings_0720.npy', embeddings)"
   ]
  }
 ],
 "metadata": {
  "kernelspec": {
   "display_name": "Python [conda env:bertopic]",
   "language": "python",
   "name": "conda-env-bertopic-py"
  },
  "language_info": {
   "codemirror_mode": {
    "name": "ipython",
    "version": 3
   },
   "file_extension": ".py",
   "mimetype": "text/x-python",
   "name": "python",
   "nbconvert_exporter": "python",
   "pygments_lexer": "ipython3",
   "version": "3.9.16"
  }
 },
 "nbformat": 4,
 "nbformat_minor": 5
}
